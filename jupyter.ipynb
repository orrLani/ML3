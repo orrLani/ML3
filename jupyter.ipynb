{
 "cells": [
  {
   "cell_type": "code",
   "execution_count": 6,
   "id": "34a9c005-ff1e-48e0-a409-59aecbab2b00",
   "metadata": {},
   "outputs": [],
   "source": [
    "# prepapre data\n",
    "import pandas as pd\n",
    "from prepare_HW3 import prepare_data\n",
    "data = pd.read_csv(\"virus_labeled.csv\",index_col = False)\n",
    "train_data, test_data = prepare_data(data)"
   ]
  },
  {
   "cell_type": "code",
   "execution_count": null,
   "id": "fe451f71-8593-45bd-bde6-1b4faef73058",
   "metadata": {},
   "outputs": [],
   "source": [
    "#Q1\n",
    "import matplotlib.pyplot as plt\n",
    "def Q1(train_data=train_data):\n",
    "    fig, ax = plt.subplots(nrows=1, ncols=3, figsize=(18, 5))\n",
    "    for i, cur_type in enumerate(['-', 'A', 'B']):\n",
    "     filter_mask = X_train['blood_type'].str.contains(cur_type)\n",
    "     sns.histplot(data=y_train[~filter_mask], ax=ax[i], stat=\"density\", kde=True,\n",
    "     line_kws={\"linewidth\": 3}, color=\"orange\", label=\"not '{}'\".format(cur_type))\n",
    "     sns.histplot(data=y_train[filter_mask], ax=ax[i], stat=\"density\", kde=True,\n",
    "     line_kws={\"linewidth\": 3}, label=cur_type)\n",
    "     ax[i].set_title(\"Blood type contains \" + cur_type)\n",
    "     ax[i].legend(), ax[i].grid(alpha=0.5)"
   ]
  }
 ],
 "metadata": {
  "kernelspec": {
   "display_name": "Python 3 (ipykernel)",
   "language": "python",
   "name": "python3"
  },
  "language_info": {
   "codemirror_mode": {
    "name": "ipython",
    "version": 3
   },
   "file_extension": ".py",
   "mimetype": "text/x-python",
   "name": "python",
   "nbconvert_exporter": "python",
   "pygments_lexer": "ipython3",
   "version": "3.9.7"
  }
 },
 "nbformat": 4,
 "nbformat_minor": 5
}